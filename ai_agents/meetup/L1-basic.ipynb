{
 "cells": [
  {
   "cell_type": "markdown",
   "metadata": {},
   "source": [
    "# Basic Model usage"
   ]
  },
  {
   "cell_type": "code",
   "execution_count": 82,
   "metadata": {},
   "outputs": [
    {
     "data": {
      "text/plain": [
       "True"
      ]
     },
     "execution_count": 82,
     "metadata": {},
     "output_type": "execute_result"
    }
   ],
   "source": [
    "from langchain.prompts import ChatPromptTemplate\n",
    "from langchain_community.chat_models import ChatOpenAI\n",
    "from langchain.schema.output_parser import StrOutputParser\n",
    "from langchain.output_parsers.openai_functions import JsonOutputFunctionsParser, JsonKeyOutputFunctionsParser\n",
    "from langchain.utils.openai_functions import convert_pydantic_to_openai_function\n",
    "from dotenv import load_dotenv\n",
    "from pydantic import BaseModel, Field\n",
    "from typing import List, Optional\n",
    "\n",
    "# Load environment variables from .env file\n",
    "load_dotenv()"
   ]
  },
  {
   "cell_type": "code",
   "execution_count": 83,
   "metadata": {},
   "outputs": [
    {
     "name": "stdout",
     "output_type": "stream",
     "text": [
      "To solve this, first compute the square root of 729. The square root of 729 is 27. Then, add 21 to this result:\n",
      "\n",
      "\\[ 27 + 21 = 48. \\]\n",
      "\n",
      "So, the final result is 48.\n"
     ]
    }
   ],
   "source": [
    "prompt = ChatPromptTemplate.from_template(\n",
    "    \"I need to compute the square root of {num_1} first, then add {num_2}.\" \n",
    ")\n",
    "model = ChatOpenAI(model=\"gpt-4o\", temperature=0, max_tokens=150)\n",
    "\n",
    "chain = prompt | model | StrOutputParser()\n",
    "output = chain.invoke({\"num_1\": \"729\", \"num_2\": \"21\"})\n",
    "print(output)"
   ]
  },
  {
   "cell_type": "code",
   "execution_count": 84,
   "metadata": {},
   "outputs": [],
   "source": [
    "# LCEL\n",
    "\n",
    "class CityRecommendationOutput(BaseModel):\n",
    "    \"\"\"Information about a city recommendation.\"\"\"\n",
    "    description: str = Field(description=\"citys description\")\n",
    "    dishes: List[str] = Field(description=\"citys main dishes\")\n",
    "    attractions: List[str] = Field(description=\"citys main attractions\")\n",
    "    \n",
    "\n",
    "prompt = ChatPromptTemplate.from_template(\n",
    "    \"\"\"\n",
    "    You are a tour guide in {city}. Please read carefully the following tasks:\n",
    "    \n",
    "    Task:\n",
    "        1. Generate a description about {city} no longer than 10 words\n",
    "        2. Get favority dishes from {city}\n",
    "        3. Get main attractions in {city}\n",
    "    \"\"\"\n",
    ")\n",
    "\n",
    "\n",
    "extraction_functions = [convert_pydantic_to_openai_function(CityRecommendationOutput)]\n",
    "extraction_model = model.bind(functions=extraction_functions, function_call={\"name\": \"CityRecommendationOutput\"})\n",
    "\n",
    "chain = prompt | extraction_model | JsonOutputFunctionsParser()"
   ]
  },
  {
   "cell_type": "code",
   "execution_count": 78,
   "metadata": {},
   "outputs": [
    {
     "name": "stdout",
     "output_type": "stream",
     "text": [
      "{'description': 'Vibrant city with rich culture and stunning landscapes.', 'dishes': ['Bandeja Paisa', 'Arepas', 'Empanadas', 'Mondongo', 'Sancocho'], 'attractions': ['Plaza Botero', 'Medellin Metrocable', 'Comuna 13', 'Parque Arvi', 'Museo de Antioquia']}\n",
      "<class 'dict'>\n"
     ]
    }
   ],
   "source": [
    "output = chain.invoke({\"city\": \"medellin\"})\n",
    "print(output)\n",
    "print(type(output))"
   ]
  },
  {
   "cell_type": "code",
   "execution_count": 86,
   "metadata": {},
   "outputs": [
    {
     "name": "stdout",
     "output_type": "stream",
     "text": [
      "{'description': 'Vibrant city with stunning beaches and lively culture.', 'dishes': ['Feijoada', 'Moqueca', 'Pão de Queijo', 'Brigadeiro'], 'attractions': ['Christ the Redeemer', 'Sugarloaf Mountain', 'Copacabana Beach', 'Ipanema Beach', 'Tijuca National Park']}\n",
      "<class 'dict'>\n"
     ]
    }
   ],
   "source": [
    "output = chain.invoke({\"city\": \"rio de janeiro\"})\n",
    "print(output)\n",
    "print(type(output))"
   ]
  },
  {
   "cell_type": "code",
   "execution_count": 87,
   "metadata": {},
   "outputs": [
    {
     "name": "stdout",
     "output_type": "stream",
     "text": [
      "I can't provide real-time data or current prices for flights. To find the most accurate and up-to-date information on flight prices from Medellín to Rio de Janeiro, I recommend checking airline websites, travel booking platforms like Expedia, Kayak, or Google Flights, or contacting a travel agent. Prices can vary based on the airline, time of booking, and availability, so it's best to compare options across different platforms.\n"
     ]
    }
   ],
   "source": [
    "prompt = ChatPromptTemplate.from_template(\n",
    "    \"tell me how much is the price of a flight for tomorrow from {from_city} to {to_city} in COP\" \n",
    ")\n",
    "chain = prompt | model | StrOutputParser()\n",
    "output = chain.invoke({\"from_city\": \"medellin\", \"to_city\": \"rio de janeiro\"})\n",
    "print(output)"
   ]
  },
  {
   "cell_type": "code",
   "execution_count": 89,
   "metadata": {},
   "outputs": [
    {
     "name": "stdout",
     "output_type": "stream",
     "text": [
      "I'm unable to provide real-time weather updates. To get the current weather in Medellín, I recommend checking a reliable weather website or using a weather app.\n",
      "I'm unable to provide real-time weather updates. To get the current weather in Rio de Janeiro, I recommend checking a reliable weather website or app, such as the Weather Channel, BBC Weather, or a local news station's website.\n"
     ]
    }
   ],
   "source": [
    "prompt = ChatPromptTemplate.from_template(\n",
    "    \"what is the weather like now in {city}\" \n",
    ")\n",
    "chain = prompt | model | StrOutputParser()\n",
    "\n",
    "for city in [\"medellin\", \"rio de janeiro\"]:\n",
    "    output = chain.invoke({\"city\": city})\n",
    "    print(output)"
   ]
  }
 ],
 "metadata": {
  "kernelspec": {
   "display_name": "ai-agents-g4szjHra-py3.12",
   "language": "python",
   "name": "python3"
  },
  "language_info": {
   "codemirror_mode": {
    "name": "ipython",
    "version": 3
   },
   "file_extension": ".py",
   "mimetype": "text/x-python",
   "name": "python",
   "nbconvert_exporter": "python",
   "pygments_lexer": "ipython3",
   "version": "3.12.4"
  }
 },
 "nbformat": 4,
 "nbformat_minor": 2
}
