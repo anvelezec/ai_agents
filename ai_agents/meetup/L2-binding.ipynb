{
 "cells": [
  {
   "cell_type": "markdown",
   "metadata": {},
   "source": [
    "# Function binding"
   ]
  },
  {
   "cell_type": "code",
   "execution_count": 116,
   "metadata": {},
   "outputs": [
    {
     "data": {
      "text/plain": [
       "True"
      ]
     },
     "execution_count": 116,
     "metadata": {},
     "output_type": "execute_result"
    }
   ],
   "source": [
    "from langchain.prompts import ChatPromptTemplate\n",
    "from langchain_community.chat_models import ChatOpenAI\n",
    "from langchain.schema.output_parser import StrOutputParser\n",
    "from langchain.output_parsers.openai_functions import JsonOutputFunctionsParser, JsonKeyOutputFunctionsParser\n",
    "from langchain.utils.openai_functions import convert_pydantic_to_openai_function\n",
    "from langchain.tools.render import format_tool_to_openai_function\n",
    "from langchain.agents.output_parsers import OpenAIFunctionsAgentOutputParser\n",
    "from langchain.schema.agent import AgentFinish\n",
    "\n",
    "from langchain.tools import tool\n",
    "from dotenv import load_dotenv\n",
    "from pydantic import BaseModel, Field\n",
    "from typing import List, Optional\n",
    "import requests\n",
    "import datetime\n",
    "import pytz\n",
    "\n",
    "\n",
    "# Load environment variables from .env file\n",
    "load_dotenv()"
   ]
  },
  {
   "cell_type": "code",
   "execution_count": 117,
   "metadata": {},
   "outputs": [],
   "source": [
    "# Define the input schema\n",
    "class OpenMeteoInput(BaseModel):\n",
    "    latitude: float = Field(..., description=\"Latitude of the location to fetch weather data for\")\n",
    "    longitude: float = Field(..., description=\"Longitude of the location to fetch weather data for\")\n",
    "\n",
    "@tool(args_schema=OpenMeteoInput)\n",
    "def get_current_temperature(latitude: float, longitude: float, **kwargs) -> dict:\n",
    "    \"\"\"Fetch current temperature for given coordinates.\"\"\"\n",
    "    \n",
    "    BASE_URL = \"https://api.open-meteo.com/v1/forecast\"\n",
    "    \n",
    "    # Parameters for the request\n",
    "    params = {\n",
    "        'latitude': latitude,\n",
    "        'longitude': longitude,\n",
    "        'hourly': 'temperature_2m',\n",
    "        'forecast_days': 1,\n",
    "    }\n",
    "\n",
    "    # Make the request\n",
    "    response = requests.get(BASE_URL, params=params)\n",
    "    \n",
    "    if response.status_code == 200:\n",
    "        results = response.json()\n",
    "    else:\n",
    "        raise Exception(f\"API Request failed with status code: {response.status_code}\")\n",
    "\n",
    "    current_hour = datetime.datetime.now(pytz.timezone('America/Panama')).hour\n",
    "    time_list = [datetime.datetime.fromisoformat(time_str.replace('Z', '+00:00')) for time_str in results['hourly']['time']]\n",
    "    temperature_list = results['hourly']['temperature_2m']\n",
    "    current_temperature = temperature_list[current_hour]\n",
    "    \n",
    "    return f'The current temperature is {current_temperature}°C'"
   ]
  },
  {
   "cell_type": "code",
   "execution_count": 118,
   "metadata": {},
   "outputs": [
    {
     "name": "stdout",
     "output_type": "stream",
     "text": [
      "[{'name': 'get_current_temperature', 'description': 'Fetch current temperature for given coordinates.', 'parameters': {'properties': {'latitude': {'description': 'Latitude of the location to fetch weather data for', 'type': 'number'}, 'longitude': {'description': 'Longitude of the location to fetch weather data for', 'type': 'number'}}, 'required': ['latitude', 'longitude'], 'type': 'object'}}]\n"
     ]
    }
   ],
   "source": [
    "tools = [format_tool_to_openai_function(get_current_temperature)]\n",
    "print(tools)\n",
    "\n",
    "# {'name': 'get_current_temperature', \n",
    "#  'description': 'Fetch current temperature for given coordinates.', \n",
    "#  'parameters': {'properties': \n",
    "#                 {'latitude': {'description': 'Latitude of the location to fetch weather data for', 'type': 'number'}, \n",
    "#                  'longitude': {'description': 'Longitude of the location to fetch weather data for', 'type': 'number'}}, \n",
    "# 'required': ['latitude', 'longitude'], 'type': 'object'}}"
   ]
  },
  {
   "cell_type": "code",
   "execution_count": 119,
   "metadata": {},
   "outputs": [],
   "source": [
    "#prompt = ChatPromptTemplate.from_template(\"What is the weather now in {input} ?\")\n",
    "\n",
    "prompt = ChatPromptTemplate.from_messages([\n",
    "    (\"system\", \"You are helpful but sassy assistant\"),\n",
    "    (\"user\", \"{input}\"),\n",
    "])\n",
    "model = ChatOpenAI(model=\"gpt-4o\", temperature=0, max_tokens=150).bind(functions=tools)\n",
    "chain = prompt | model | OpenAIFunctionsAgentOutputParser()"
   ]
  },
  {
   "cell_type": "code",
   "execution_count": 120,
   "metadata": {},
   "outputs": [
    {
     "name": "stdout",
     "output_type": "stream",
     "text": [
      "Getting the weather for Medellin\n",
      "tool='get_current_temperature' tool_input={'latitude': 6.2442, 'longitude': -75.5812} log=\"\\nInvoking: `get_current_temperature` with `{'latitude': 6.2442, 'longitude': -75.5812}`\\n\\n\\n\" message_log=[AIMessage(content='', additional_kwargs={'function_call': {'arguments': '{\"latitude\":6.2442,\"longitude\":-75.5812}', 'name': 'get_current_temperature'}}, response_metadata={'token_usage': {'completion_tokens': 27, 'prompt_tokens': 86, 'total_tokens': 113, 'completion_tokens_details': {'accepted_prediction_tokens': 0, 'audio_tokens': 0, 'reasoning_tokens': 0, 'rejected_prediction_tokens': 0}, 'prompt_tokens_details': {'audio_tokens': 0, 'cached_tokens': 0}}, 'model_name': 'gpt-4o', 'system_fingerprint': 'fp_4691090a87', 'finish_reason': 'function_call', 'logprobs': None}, id='run-0529af5b-dc9e-4054-94a7-7426b95cb048-0')]\n",
      "Output type: <class 'langchain_core.agents.AgentActionMessageLog'>\n",
      "get_current_temperature\n",
      "{'latitude': 6.2442, 'longitude': -75.5812}\n",
      "###---###---###---###---###---###---###---###---###---###---###---###---###---###---###---###---###---###---###---###---###---###---###---###---###---###---###---###---###---###---\n",
      "\n",
      "\n",
      "Getting the weather for Sao pablo\n",
      "return_values={'output': 'Could you please clarify if you meant \"São Paulo\" in Brazil or another location? If it\\'s São Paulo, I can fetch the current temperature for you.'} log='Could you please clarify if you meant \"São Paulo\" in Brazil or another location? If it\\'s São Paulo, I can fetch the current temperature for you.'\n",
      "Output type: <class 'langchain_core.agents.AgentFinish'>\n"
     ]
    }
   ],
   "source": [
    "for city in [\"Medellin\", \"Sao pablo\"]:\n",
    "    output = chain.invoke({f\"input\":\"what is the weather now in {city}\".format(city=city)})\n",
    "    print(\"Getting the weather for\", city)\n",
    "    print(output)\n",
    "    print(\"Output type:\", type(output))\n",
    "    if not isinstance(output, AgentFinish):\n",
    "        print(output.tool)\n",
    "        print(output.tool_input)\n",
    "        get_current_temperature(output.tool_input)\n",
    "        print(\"###---\"*30)\n",
    "        print(\"\\n\")"
   ]
  },
  {
   "cell_type": "code",
   "execution_count": 121,
   "metadata": {},
   "outputs": [
    {
     "name": "stdout",
     "output_type": "stream",
     "text": [
      "return_values={'output': 'Hello, Python/ML enthusiast! 🐍🤖 How can I assist you today? Are you looking for some spicy machine learning tips or perhaps a Pythonic joke?'} log='Hello, Python/ML enthusiast! 🐍🤖 How can I assist you today? Are you looking for some spicy machine learning tips or perhaps a Pythonic joke?'\n"
     ]
    }
   ],
   "source": [
    "output = chain.invoke({\"input\":\"hello from python/ml community\"})\n",
    "if not isinstance(output, AgentFinish):\n",
    "    print(output.tool)\n",
    "    print(output.tool_input)\n",
    "else:\n",
    "    print(output)"
   ]
  }
 ],
 "metadata": {
  "kernelspec": {
   "display_name": "ai-agents-g4szjHra-py3.12",
   "language": "python",
   "name": "python3"
  },
  "language_info": {
   "codemirror_mode": {
    "name": "ipython",
    "version": 3
   },
   "file_extension": ".py",
   "mimetype": "text/x-python",
   "name": "python",
   "nbconvert_exporter": "python",
   "pygments_lexer": "ipython3",
   "version": "3.12.4"
  }
 },
 "nbformat": 4,
 "nbformat_minor": 2
}
