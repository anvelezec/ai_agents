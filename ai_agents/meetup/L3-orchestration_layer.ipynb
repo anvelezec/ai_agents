{
 "cells": [
  {
   "cell_type": "markdown",
   "metadata": {},
   "source": [
    "# Orchestration layer"
   ]
  },
  {
   "cell_type": "code",
   "execution_count": null,
   "metadata": {},
   "outputs": [],
   "source": [
    "from langchain.prompts import ChatPromptTemplate\n",
    "from langchain_community.chat_models import ChatOpenAI\n",
    "from langchain.schema.output_parser import StrOutputParser\n",
    "from langchain.agents import AgentExecutor, create_openai_tools_agent\n",
    "from langchain.agents import initialize_agent, AgentType\n",
    "from langchain.tools.render import format_tool_to_openai_function\n",
    "from langchain.agents import AgentExecutor\n",
    "from langchain.agents import create_react_agent\n",
    "\n",
    "from langchain.output_parsers.openai_functions import JsonOutputFunctionsParser, JsonKeyOutputFunctionsParser\n",
    "from langchain.utils.openai_functions import convert_pydantic_to_openai_function\n",
    "from langchain.utilities import SerpAPIWrapper\n",
    "from langchain.tools import Tool\n",
    "from langchain_community.tools.tavily_search import TavilySearchResults\n",
    "from langchain.tools import tool\n",
    "from langchain.tools import Tool\n",
    "\n",
    "from dotenv import load_dotenv\n",
    "from pydantic import BaseModel, Field\n",
    "from typing import List, Dict, Optional\n",
    "\n",
    "import requests\n",
    "import datetime\n",
    "import pytz\n",
    "import math\n",
    "# Load environment variables from .env file\n",
    "load_dotenv()"
   ]
  },
  {
   "cell_type": "code",
   "execution_count": 45,
   "metadata": {},
   "outputs": [],
   "source": [
    "# Set up OpenAI model (Make sure to set OPENAI_API_KEY in your environment)\n",
    "llm = ChatOpenAI(model=\"gpt-4o\", temperature=0)\n",
    "\n",
    "# Define a simple calculator tool\n",
    "def calculate(expression: str) -> str:\n",
    "    \"\"\"Evaluates a mathematical expression safely.\"\"\"\n",
    "    try:\n",
    "        return str(eval(expression, {\"__builtins__\": {}}, {\"sqrt\": math.sqrt}))\n",
    "    except Exception as e:\n",
    "        return f\"Error: {str(e)}\"\n",
    "\n",
    "# Define a web search tool (Requires SerpAPI Key)\n",
    "#search_tool = SerpAPIWrapper()\n",
    "search_tool2 = TavilySearchResults()\n",
    "\n",
    "# Create LangChain tools\n",
    "tools = [\n",
    "    Tool(name=\"Calculator\", func=calculate, description=\"Performs mathematical calculations.\"),\n",
    "    #Tool(name=\"Web Search\", func=search_tool.run, description=\"Fetches the latest information from the web.\"),\n",
    "    Tool(name=\"Tavily Search\", func=search_tool2.run, description=\"Searches for the latest information on the web.\"),\n",
    "]\n",
    "\n",
    "# Initialize a ReAct agent\n",
    "# A higher-level helper function for quickly creating an agent.\n",
    "# Internally constructs an AgentExecutor with predefined settings.\n",
    "# Good for quick prototyping but less flexible than manually setting up an AgentExecutor.\n",
    "\n",
    "\n",
    "agent = initialize_agent(\n",
    "    tools=tools,\n",
    "    llm=llm,\n",
    "    agent=AgentType.ZERO_SHOT_REACT_DESCRIPTION,\n",
    "    verbose=True,\n",
    ")"
   ]
  },
  {
   "cell_type": "code",
   "execution_count": null,
   "metadata": {},
   "outputs": [],
   "source": [
    "agent"
   ]
  },
  {
   "cell_type": "code",
   "execution_count": null,
   "metadata": {},
   "outputs": [],
   "source": [
    "# Test the agent\n",
    "question = \"\"\n",
    "response = agent.run(question)"
   ]
  },
  {
   "cell_type": "code",
   "execution_count": null,
   "metadata": {},
   "outputs": [],
   "source": [
    "# Test the agent\n",
    "question = \"What is the temperature in medellin now in celsius?\"\n",
    "response = agent.run(question)"
   ]
  },
  {
   "cell_type": "code",
   "execution_count": null,
   "metadata": {},
   "outputs": [],
   "source": [
    "question = \"tell me how much is the price of a flight for next week from medellin to rio de janeiro in COP\"\n",
    "response = agent.run(question)"
   ]
  }
 ],
 "metadata": {
  "kernelspec": {
   "display_name": "ai-agents-g4szjHra-py3.12",
   "language": "python",
   "name": "python3"
  },
  "language_info": {
   "codemirror_mode": {
    "name": "ipython",
    "version": 3
   },
   "file_extension": ".py",
   "mimetype": "text/x-python",
   "name": "python",
   "nbconvert_exporter": "python",
   "pygments_lexer": "ipython3",
   "version": "3.12.4"
  }
 },
 "nbformat": 4,
 "nbformat_minor": 2
}
